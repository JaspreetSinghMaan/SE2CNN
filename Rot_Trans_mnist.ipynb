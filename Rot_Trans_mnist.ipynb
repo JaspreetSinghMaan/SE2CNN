{
  "nbformat": 4,
  "nbformat_minor": 0,
  "metadata": {
    "kernelspec": {
      "display_name": "Python 3",
      "language": "python",
      "name": "python3"
    },
    "language_info": {
      "codemirror_mode": {
        "name": "ipython",
        "version": 3
      },
      "file_extension": ".py",
      "mimetype": "text/x-python",
      "name": "python",
      "nbconvert_exporter": "python",
      "pygments_lexer": "ipython3",
      "version": "3.5.5"
    },
    "colab": {
      "name": "Rot_Trans_mnist.ipynb",
      "provenance": [],
      "collapsed_sections": [],
      "toc_visible": true
    }
  },
  "cells": [
    {
      "cell_type": "markdown",
      "metadata": {
        "id": "xxs_FWMtod0K",
        "colab_type": "text"
      },
      "source": [
        "*Jaspreet Singh, Punjabi University, Patiala (Punjab, India)*\n",
        "\n",
        "*28 April 2020* \n",
        "\n",
        "*The network is modified to be complete roto and tranlsation invariant by sticking with (5x5 and 1x1) SE(2) group convolutions all the way to the output layer, which would then provide a length 10 feature vector for each orientation. And then simply did a maximum projection over the orientations (tf.reduce_max) to get the maximal response for each bin, followed by a softmax.*\n",
        "\n",
        "*This program is orginally written by Erik J. Bekkers and Maxime W. Lafarge, Eindhoven University of Technology, the Netherlands*\n",
        "\n",
        "*8 June 2018*\n",
        "\n",
        "***\n",
        "\n",
        "*This DEMO was tested on a laptop with*:\n",
        "- *Windows as OS*\n",
        "- *Jupyter Notebook (version 5.5.0)*\n",
        "- *Python (version 3.5.5)*\n",
        "- *TensorFlow-GPU (versions 1.1 and higher)*\n",
        "- *An NVIDIA Quadro M1000M GPU*\n",
        "- *The following additional libraries installed for this demo to run: sklearn, scipy, and matplotlib*"
      ]
    },
    {
      "cell_type": "code",
      "metadata": {
        "id": "iLCsw1pUmGad",
        "colab_type": "code",
        "outputId": "dab35978-1157-4afe-9a18-5f21980e78a7",
        "colab": {
          "base_uri": "https://localhost:8080/",
          "height": 394
        }
      },
      "source": [
        "pip install tensorflow==1.15"
      ],
      "execution_count": 0,
      "outputs": [
        {
          "output_type": "stream",
          "text": [
            "Requirement already satisfied: tensorflow==1.15 in /usr/local/lib/python3.6/dist-packages (1.15.0)\n",
            "Requirement already satisfied: six>=1.10.0 in /usr/local/lib/python3.6/dist-packages (from tensorflow==1.15) (1.12.0)\n",
            "Requirement already satisfied: wrapt>=1.11.1 in /usr/local/lib/python3.6/dist-packages (from tensorflow==1.15) (1.12.1)\n",
            "Requirement already satisfied: termcolor>=1.1.0 in /usr/local/lib/python3.6/dist-packages (from tensorflow==1.15) (1.1.0)\n",
            "Requirement already satisfied: tensorflow-estimator==1.15.1 in /usr/local/lib/python3.6/dist-packages (from tensorflow==1.15) (1.15.1)\n",
            "Requirement already satisfied: tensorboard<1.16.0,>=1.15.0 in /usr/local/lib/python3.6/dist-packages (from tensorflow==1.15) (1.15.0)\n",
            "Requirement already satisfied: opt-einsum>=2.3.2 in /usr/local/lib/python3.6/dist-packages (from tensorflow==1.15) (3.2.1)\n",
            "Requirement already satisfied: keras-applications>=1.0.8 in /usr/local/lib/python3.6/dist-packages (from tensorflow==1.15) (1.0.8)\n",
            "Requirement already satisfied: astor>=0.6.0 in /usr/local/lib/python3.6/dist-packages (from tensorflow==1.15) (0.8.1)\n",
            "Requirement already satisfied: numpy<2.0,>=1.16.0 in /usr/local/lib/python3.6/dist-packages (from tensorflow==1.15) (1.18.3)\n",
            "Requirement already satisfied: protobuf>=3.6.1 in /usr/local/lib/python3.6/dist-packages (from tensorflow==1.15) (3.10.0)\n",
            "Requirement already satisfied: grpcio>=1.8.6 in /usr/local/lib/python3.6/dist-packages (from tensorflow==1.15) (1.28.1)\n",
            "Requirement already satisfied: google-pasta>=0.1.6 in /usr/local/lib/python3.6/dist-packages (from tensorflow==1.15) (0.2.0)\n",
            "Requirement already satisfied: absl-py>=0.7.0 in /usr/local/lib/python3.6/dist-packages (from tensorflow==1.15) (0.9.0)\n",
            "Requirement already satisfied: keras-preprocessing>=1.0.5 in /usr/local/lib/python3.6/dist-packages (from tensorflow==1.15) (1.1.0)\n",
            "Requirement already satisfied: wheel>=0.26 in /usr/local/lib/python3.6/dist-packages (from tensorflow==1.15) (0.34.2)\n",
            "Requirement already satisfied: gast==0.2.2 in /usr/local/lib/python3.6/dist-packages (from tensorflow==1.15) (0.2.2)\n",
            "Requirement already satisfied: werkzeug>=0.11.15 in /usr/local/lib/python3.6/dist-packages (from tensorboard<1.16.0,>=1.15.0->tensorflow==1.15) (1.0.1)\n",
            "Requirement already satisfied: setuptools>=41.0.0 in /usr/local/lib/python3.6/dist-packages (from tensorboard<1.16.0,>=1.15.0->tensorflow==1.15) (46.1.3)\n",
            "Requirement already satisfied: markdown>=2.6.8 in /usr/local/lib/python3.6/dist-packages (from tensorboard<1.16.0,>=1.15.0->tensorflow==1.15) (3.2.1)\n",
            "Requirement already satisfied: h5py in /usr/local/lib/python3.6/dist-packages (from keras-applications>=1.0.8->tensorflow==1.15) (2.10.0)\n"
          ],
          "name": "stdout"
        }
      ]
    },
    {
      "cell_type": "code",
      "metadata": {
        "id": "AdZbuArFoits",
        "colab_type": "code",
        "outputId": "3513d5c5-19fb-44c9-9c7d-113f1b29dbe1",
        "colab": {
          "base_uri": "https://localhost:8080/",
          "height": 54
        }
      },
      "source": [
        "#from google.colab import drive\n",
        "import sys\n",
        "#drive.mount('/content/drive')\n",
        "from google.colab import drive\n",
        "drive.mount('/content/drive')\n",
        "sys.path.append('/content/drive/My Drive/SE2CNN-master/')"
      ],
      "execution_count": 0,
      "outputs": [
        {
          "output_type": "stream",
          "text": [
            "Drive already mounted at /content/drive; to attempt to forcibly remount, call drive.mount(\"/content/drive\", force_remount=True).\n"
          ],
          "name": "stdout"
        }
      ]
    },
    {
      "cell_type": "markdown",
      "metadata": {
        "id": "kMp33SZPod0P",
        "colab_type": "text"
      },
      "source": [
        "# Basic usage of the se2cnn library"
      ]
    },
    {
      "cell_type": "markdown",
      "metadata": {
        "id": "rtUZLiPQod0S",
        "colab_type": "text"
      },
      "source": [
        "This jupyter demo will contain the basic usage examples of the se2cnn library with applications to digit recognition in the MNIST dataset. The se2cnn library contains 3 main layers (check the useage via *help(se2cnn.layers.z2_se2n)*):\n",
        "- **z2_se2n**: a lifting layer from 2D tensor to SE(2) tensor\n",
        "- **se2n_se2n**: a group convolution layer from SE(2) tensor to SE(2) tensor\n",
        "- **spatial_max_pool**: performs 2x2 spatial max-pooling of the spatial axes\n",
        "\n",
        "The following functions are used internally, but may be of interest as well:\n",
        "- **rotate_lifting_kernels**: rotates the raw 2D lifting kernels (output is a set of rotated kernels)\n",
        "- **rotate_gconv_kernels**: rotates (shift-twists) the se2 kernels (planar rotation + orientation shift)\n",
        "\n",
        "\n",
        "\n",
        "In this demo we will construct the following network:\n",
        "\n",
        "| layer nr. | Layer                          | Tensor shape  |\n",
        "| --------- | ------------------------------ | ------------- |\n",
        "| 0         | input                          | (32 x 32 x 1) |\n",
        "| --------- | --------------------------------------------------- | -------------------------- |\n",
        "| 1         | 5x5 lifting convultion (+ReLU) | (28 x 28 x Ntheta x Nc)  |\n",
        "| 1         | 2x2 max pooling                | (14 x 14 x Ntheta x Nc)  |\n",
        "| --------- | --------------------------------------------------- | -------------------------- |\n",
        "| 2         | 5x5 group convultion (+ReLU)   | (10 x 10 x Ntheta x 2*Nc)  |\n",
        "| 2         | 2x2 max pooling                | (5 x 5 x Ntheta x 2*Nc)  |\n",
        "| --------- | --------------------------------------------------- | -------------------------- |\n",
        "| 3         | 5x5 2D convultion (+ReLU)      | (1 x 1 x Ntheta x 4*Nc)  |\n",
        "| --------- | --------------------------------------------------- | -------------------------- |\n",
        "| 4         | 1x1 2D convultion (+ReLU)      | (1 x 1 x Ntheta x 128)  |\n",
        "| --------- | --------------------------------------------------- | -------------------------- |\n",
        "| 5         | 1x1 2D convolution: the output layer | (10) |\n",
        "\n",
        "Here Ntheta is the number of orientation samples to discretize the SE(2) group, Nc is the number of channels in the lifting layer. The first two layers are **roto-translation covariant**, meaning that the feature vectors rotate according to rotations of the input patterns (e.g. basic features do not need to be learned for each orientation). "
      ]
    },
    {
      "cell_type": "markdown",
      "metadata": {
        "id": "ksa8yuFwod0U",
        "colab_type": "text"
      },
      "source": [
        "***\n",
        "# Part 1: Load the libraries"
      ]
    },
    {
      "cell_type": "markdown",
      "metadata": {
        "id": "GwOvDmoAod0W",
        "colab_type": "text"
      },
      "source": [
        "## Load the libraries"
      ]
    },
    {
      "cell_type": "code",
      "metadata": {
        "scrolled": true,
        "id": "zFnEec7Dod0Y",
        "colab_type": "code",
        "colab": {}
      },
      "source": [
        "# Impor tensorflow and numpy\n",
        "import tensorflow as tf\n",
        "import numpy as np\n",
        "import math as m\n",
        "import time\n",
        "# For validation\n",
        "from sklearn.metrics import confusion_matrix\n",
        "import itertools\n",
        "\n",
        "# For plotting\n",
        "from matplotlib import pyplot as plt\n",
        "\n",
        "# Import the library\n",
        "import se2cnn.layers"
      ],
      "execution_count": 0,
      "outputs": []
    },
    {
      "cell_type": "markdown",
      "metadata": {
        "id": "7G5j3Y_Jod0g",
        "colab_type": "text"
      },
      "source": [
        "## Useful functions"
      ]
    },
    {
      "cell_type": "markdown",
      "metadata": {
        "id": "FzL0jHyaod0i",
        "colab_type": "text"
      },
      "source": [
        "### The se2cnn layers"
      ]
    },
    {
      "cell_type": "markdown",
      "metadata": {
        "id": "P9AeEfk-od0j",
        "colab_type": "text"
      },
      "source": [
        "For useage of the relevant layers defined in se2cnn.layers uncomment and run the following:"
      ]
    },
    {
      "cell_type": "code",
      "metadata": {
        "id": "isqEzLdfod0m",
        "colab_type": "code",
        "outputId": "191b15b3-bc41-48e6-807a-b4a0f3845210",
        "colab": {
          "base_uri": "https://localhost:8080/",
          "height": 1000
        }
      },
      "source": [
        "help(se2cnn.layers.z2_se2n)\n",
        "help(se2cnn.layers.se2n_se2n)\n",
        "help(se2cnn.layers.spatial_max_pool)"
      ],
      "execution_count": 0,
      "outputs": [
        {
          "output_type": "stream",
          "text": [
            "Help on function z2_se2n in module se2cnn.layers:\n",
            "\n",
            "z2_se2n(input_tensor, kernel, orientations_nb, periodicity=6.283185307179586, diskMask=True, padding='VALID')\n",
            "    Constructs a group convolutional layer.\n",
            "    (lifting layer from Z2 to SE2N with N input number of orientations)\n",
            "    \n",
            "    INPUT:\n",
            "        - input_tensor in Z2, a tensorflow Tensor with expected shape:\n",
            "            [BatchSize, Height, Width, ChannelsIN]\n",
            "        - kernel, a tensorflow Tensor with expected shape:\n",
            "            [kernelSize, kernelSize, ChannelsIN, ChannelsOUT]\n",
            "        - orientations_nb, an integer specifying the number of rotations\n",
            "    \n",
            "    INPUT (optional):\n",
            "        - periodicity, rotate in total over 2*np.pi or np.pi\n",
            "        - disk_mask, True or False, specifying whether or not to mask the kernels spatially\n",
            "    \n",
            "    OUTPUT:\n",
            "        - output_tensor, the tensor after group convolutions with shape\n",
            "            [BatchSize, Height', Width', orientations_nb, ChannelsOut]\n",
            "            (Height', Width' are reduced sizes due to the valid convolution)\n",
            "        - kernels_formatted, the formated kernels, i.e., the full stack of rotated kernels with shape:\n",
            "            [orientations_nb, kernelSize, kernelSize, ChannelsIN, ChannelsOUT]\n",
            "\n",
            "Help on function se2n_se2n in module se2cnn.layers:\n",
            "\n",
            "se2n_se2n(input_tensor, kernel, periodicity=6.283185307179586, diskMask=True, padding='VALID')\n",
            "    Constructs a group convolutional layer.\n",
            "    (group convolution layer from SE2N to SE2N with N input number of orientations)\n",
            "    INPUT:\n",
            "        - input_tensor in SE2n, a tensor flow tensor with expected shape:\n",
            "            [BatchSize, nbOrientations, Height, Width, ChannelsIN]\n",
            "        - kernel, a tensorflow Tensor with expected shape:\n",
            "            [kernelSize, kernelSize, nbOrientations, ChannelsIN, ChannelsOUT]\n",
            "    \n",
            "    INPUT (optional):\n",
            "        - periodicity, rotate in total over 2*np.pi or np.pi\n",
            "        - disk_mask, True or False, specifying whether or not to mask the\n",
            "            kernels spatially\n",
            "    \n",
            "    OUTPUT:\n",
            "        - output_tensor, the tensor after group convolutions with shape\n",
            "            [BatchSize, Height', Width', nbOrientations, ChannelsOut]\n",
            "            (Height', Width' are the reduced sizes due to the valid convolution)\n",
            "        - kernels_formatted, the formated kernels, i.e., the full stack of\n",
            "            rotated kernels with shape [nbOrientations, kernelSize, kernelSize, nbOrientations, channelsIn, channelsOut]\n",
            "\n",
            "Help on function spatial_max_pool in module se2cnn.layers:\n",
            "\n",
            "spatial_max_pool(input_tensor, nbOrientations, padding='VALID')\n",
            "    Performs spatial max-pooling on every orientation of the SE2N tensor.\n",
            "    INPUT:\n",
            "        - input_tensor in SE2n, a tensor flow tensor with expected shape:\n",
            "            [BatchSize, Height, Width, nbOrientations, ChannelsIN]\n",
            "    \n",
            "    OUTPUT:\n",
            "        - output_tensor, the tensor after spatial max-pooling\n",
            "            [BatchSize, Height/2, Width/2, nbOrientations, ChannelsOut]\n",
            "\n"
          ],
          "name": "stdout"
        }
      ]
    },
    {
      "cell_type": "markdown",
      "metadata": {
        "id": "HAHTd4K-od0s",
        "colab_type": "text"
      },
      "source": [
        "### Weight initialization"
      ]
    },
    {
      "cell_type": "markdown",
      "metadata": {
        "id": "QpODK5f_od0u",
        "colab_type": "text"
      },
      "source": [
        "For initialization we use the initialization method for ReLU activation functions as proposed in:\n",
        "\n",
        "He, K., Zhang, X., Ren, S., & Sun, J. (2016). Deep residual learning for image recognition. In Proceedings of the IEEE conference on computer vision and pattern recognition (pp. 770-778)."
      ]
    },
    {
      "cell_type": "code",
      "metadata": {
        "id": "an4S7etDod0w",
        "colab_type": "code",
        "colab": {}
      },
      "source": [
        "# Xavier's/He-Rang-Zhen-Sun initialization for layers that are followed ReLU\n",
        "def weight_initializer(n_in, n_out):\n",
        "    return tf.random_normal_initializer(mean=0.0, stddev=m.sqrt(2.0 / (n_in))\n",
        "    )"
      ],
      "execution_count": 0,
      "outputs": []
    },
    {
      "cell_type": "markdown",
      "metadata": {
        "id": "3vrvJbKmod03",
        "colab_type": "text"
      },
      "source": [
        "### Confusion matrix plot"
      ]
    },
    {
      "cell_type": "code",
      "metadata": {
        "id": "mc7BrHcDod06",
        "colab_type": "code",
        "colab": {}
      },
      "source": [
        "def plot_confusion_matrix(cm, classes,\n",
        "                          normalize=False,\n",
        "                          title='Confusion matrix',\n",
        "                          cmap=plt.cm.Blues):\n",
        "    \"\"\"\n",
        "    This function prints and plots the confusion matrix.\n",
        "    Normalization can be applied by setting `normalize=True`.\n",
        "    \"\"\"\n",
        "    if normalize:\n",
        "        cm = cm.astype('float') / cm.sum(axis=1)[:, np.newaxis]\n",
        "        print(\"Normalized confusion matrix\")\n",
        "    else:\n",
        "        print('Confusion matrix, without normalization')\n",
        "\n",
        "    plt.imshow(cm, interpolation='nearest', cmap=cmap)\n",
        "    plt.title(title)\n",
        "    plt.colorbar()\n",
        "    tick_marks = np.arange(len(classes))\n",
        "    plt.xticks(tick_marks, classes, rotation=45)\n",
        "    plt.yticks(tick_marks, classes)\n",
        "\n",
        "    fmt = '.2f' if normalize else 'd'\n",
        "    thresh = cm.max() / 2.\n",
        "    for i, j in itertools.product(range(cm.shape[0]), range(cm.shape[1])):\n",
        "        plt.text(j, i, format(cm[i, j], fmt),\n",
        "                 horizontalalignment=\"center\",\n",
        "                 color=\"white\" if cm[i, j] > thresh else \"black\")\n",
        "\n",
        "    plt.tight_layout()\n",
        "    plt.ylabel('True label')\n",
        "    plt.xlabel('Predicted label')"
      ],
      "execution_count": 0,
      "outputs": []
    },
    {
      "cell_type": "markdown",
      "metadata": {
        "id": "kEUEz6fFod1A",
        "colab_type": "text"
      },
      "source": [
        "### Size of a tf tensor"
      ]
    },
    {
      "cell_type": "code",
      "metadata": {
        "id": "gcB4-sCiod1B",
        "colab_type": "code",
        "colab": {}
      },
      "source": [
        "def size_of(tensor) :\n",
        "    # Multiply elements one by one\n",
        "    result = 1\n",
        "    for x in tensor.get_shape().as_list():\n",
        "         result = result * x \n",
        "    return result "
      ],
      "execution_count": 0,
      "outputs": []
    },
    {
      "cell_type": "markdown",
      "metadata": {
        "id": "DHVI9dhsod1H",
        "colab_type": "text"
      },
      "source": [
        "***\n",
        "# Part 2: Load and format the MNIST dataset"
      ]
    },
    {
      "cell_type": "markdown",
      "metadata": {
        "id": "U5qnkl5Iod1I",
        "colab_type": "text"
      },
      "source": [
        "The MNIS dataset consists of 28x28 images of handwritten characters. We are going to classify each input image into 1 of the 10 classes (the digits 0 to 9)."
      ]
    },
    {
      "cell_type": "code",
      "metadata": {
        "colab_type": "code",
        "outputId": "e4819a2a-62ad-4480-8ebe-adc1bb081fb3",
        "id": "FxxAk-7r4_hr",
        "colab": {
          "base_uri": "https://localhost:8080/",
          "height": 598
        }
      },
      "source": [
        "mnist = tf.contrib.learn.datasets.load_dataset(\"mnist\")\n",
        "train_data = mnist.train.images # Returns np.array\n",
        "train_labels = np.asarray(mnist.train.labels, dtype=np.int32)\n",
        "valid_data = mnist.validation.images # Returns np.array\n",
        "valid_labels = np.asarray(mnist.validation.labels, dtype=np.int32)\n",
        "eval_data = mnist.test.images # Returns np.array\n",
        "eval_labels = np.asarray(mnist.test.labels, dtype=np.int32)"
      ],
      "execution_count": 0,
      "outputs": [
        {
          "output_type": "stream",
          "text": [
            "WARNING:tensorflow:\n",
            "The TensorFlow contrib module will not be included in TensorFlow 2.0.\n",
            "For more information, please see:\n",
            "  * https://github.com/tensorflow/community/blob/master/rfcs/20180907-contrib-sunset.md\n",
            "  * https://github.com/tensorflow/addons\n",
            "  * https://github.com/tensorflow/io (for I/O related ops)\n",
            "If you depend on functionality not listed there, please file an issue.\n",
            "\n",
            "WARNING:tensorflow:From <ipython-input-8-c009531ae0cf>:1: load_dataset (from tensorflow.contrib.learn.python.learn.datasets) is deprecated and will be removed in a future version.\n",
            "Instructions for updating:\n",
            "Please use tf.data.\n",
            "WARNING:tensorflow:From /usr/local/lib/python3.6/dist-packages/tensorflow_core/contrib/learn/python/learn/datasets/__init__.py:80: load_mnist (from tensorflow.contrib.learn.python.learn.datasets.mnist) is deprecated and will be removed in a future version.\n",
            "Instructions for updating:\n",
            "Please use alternatives such as official/mnist/dataset.py from tensorflow/models.\n",
            "WARNING:tensorflow:From /usr/local/lib/python3.6/dist-packages/tensorflow_core/contrib/learn/python/learn/datasets/mnist.py:300: read_data_sets (from tensorflow.contrib.learn.python.learn.datasets.mnist) is deprecated and will be removed in a future version.\n",
            "Instructions for updating:\n",
            "Please use alternatives such as official/mnist/dataset.py from tensorflow/models.\n",
            "WARNING:tensorflow:From /usr/local/lib/python3.6/dist-packages/tensorflow_core/contrib/learn/python/learn/datasets/mnist.py:260: maybe_download (from tensorflow.contrib.learn.python.learn.datasets.base) is deprecated and will be removed in a future version.\n",
            "Instructions for updating:\n",
            "Please write your own downloading logic.\n",
            "WARNING:tensorflow:From /usr/local/lib/python3.6/dist-packages/tensorflow_core/contrib/learn/python/learn/datasets/mnist.py:262: extract_images (from tensorflow.contrib.learn.python.learn.datasets.mnist) is deprecated and will be removed in a future version.\n",
            "Instructions for updating:\n",
            "Please use tf.data to implement this functionality.\n",
            "Extracting MNIST-data/train-images-idx3-ubyte.gz\n",
            "WARNING:tensorflow:From /usr/local/lib/python3.6/dist-packages/tensorflow_core/contrib/learn/python/learn/datasets/mnist.py:267: extract_labels (from tensorflow.contrib.learn.python.learn.datasets.mnist) is deprecated and will be removed in a future version.\n",
            "Instructions for updating:\n",
            "Please use tf.data to implement this functionality.\n",
            "Extracting MNIST-data/train-labels-idx1-ubyte.gz\n",
            "Extracting MNIST-data/t10k-images-idx3-ubyte.gz\n",
            "Extracting MNIST-data/t10k-labels-idx1-ubyte.gz\n",
            "WARNING:tensorflow:From /usr/local/lib/python3.6/dist-packages/tensorflow_core/contrib/learn/python/learn/datasets/mnist.py:290: DataSet.__init__ (from tensorflow.contrib.learn.python.learn.datasets.mnist) is deprecated and will be removed in a future version.\n",
            "Instructions for updating:\n",
            "Please use alternatives such as official/mnist/dataset.py from tensorflow/models.\n"
          ],
          "name": "stdout"
        }
      ]
    },
    {
      "cell_type": "code",
      "metadata": {
        "id": "RVmRk9xf2aN4",
        "colab_type": "code",
        "outputId": "a3b022cc-272b-4c07-89bc-a2c18da39229",
        "colab": {
          "base_uri": "https://localhost:8080/",
          "height": 34
        }
      },
      "source": [
        "print(valid_data.shape)"
      ],
      "execution_count": 0,
      "outputs": [
        {
          "output_type": "stream",
          "text": [
            "(5000, 784)\n"
          ],
          "name": "stdout"
        }
      ]
    },
    {
      "cell_type": "markdown",
      "metadata": {
        "id": "pC0AdUhWod1X",
        "colab_type": "text"
      },
      "source": [
        "By default the data is formatted as flattened arrays. Here were format them as 2D feature maps (with only 1 channel)."
      ]
    },
    {
      "cell_type": "code",
      "metadata": {
        "id": "4jCjyYkkod1Z",
        "colab_type": "code",
        "outputId": "753b28dd-c467-41d2-d11b-a8b01288216b",
        "colab": {
          "base_uri": "https://localhost:8080/",
          "height": 315
        }
      },
      "source": [
        "# Reshape to 2D multi-channel images\n",
        "train_data_2D = train_data.reshape([len(train_data),28,28,1]) # [batch_size, Nx, Ny, Nc]\n",
        "eval_data_2D = eval_data.reshape([len(eval_data),28,28,1])\n",
        "print(type(train_labels))\n",
        "# Plot the first sample\n",
        "plt.plot()\n",
        "plt.title('Digit = %d' % train_labels[0])\n",
        "plt.imshow(train_data_2D[0,:,:,0])"
      ],
      "execution_count": 0,
      "outputs": [
        {
          "output_type": "stream",
          "text": [
            "<class 'numpy.ndarray'>\n"
          ],
          "name": "stdout"
        },
        {
          "output_type": "execute_result",
          "data": {
            "text/plain": [
              "<matplotlib.image.AxesImage at 0x7f7cfd363668>"
            ]
          },
          "metadata": {
            "tags": []
          },
          "execution_count": 11
        },
        {
          "output_type": "display_data",
          "data": {
            "image/png": "[encoded data removed]",
            "text/plain": [
              "<Figure size 432x288 with 1 Axes>"
            ]
          },
          "metadata": {
            "tags": [],
            "needs_background": "light"
          }
        }
      ]
    },
    {
      "cell_type": "markdown",
      "metadata": {
        "id": "BvcbNJqWod1g",
        "colab_type": "text"
      },
      "source": [
        "We would like to have the patches to be of size 32x32 such that we can reduce it to 1x1 via 5x5 convolutions and max pooling layers. So, here we pad the images on the left and right with zeros."
      ]
    },
    {
      "cell_type": "code",
      "metadata": {
        "id": "RS8Wzieeod1h",
        "colab_type": "code",
        "colab": {}
      },
      "source": [
        "train_data_2D = np.pad(train_data_2D,((0,0),(2,2),(2,2),(0,0)),'constant', constant_values=((0,0),(0,0),(0,0),(0,0)))\n",
        "eval_data_2D = np.pad(eval_data_2D,((0,0),(2,2),(2,2),(0,0)),'constant', constant_values=((0,0),(0,0),(0,0),(0,0)))"
      ],
      "execution_count": 0,
      "outputs": []
    },
    {
      "cell_type": "markdown",
      "metadata": {
        "id": "fSZVGTr0od1m",
        "colab_type": "text"
      },
      "source": [
        "***\n",
        "# Part 3: Build a graph (design the G-CNN)"
      ]
    },
    {
      "cell_type": "markdown",
      "metadata": {
        "id": "Da7qf0aDod1n",
        "colab_type": "text"
      },
      "source": [
        "## Build a graph"
      ]
    },
    {
      "cell_type": "code",
      "metadata": {
        "id": "_5DIxzG4od1o",
        "colab_type": "code",
        "colab": {}
      },
      "source": [
        "graph = tf.Graph()\n",
        "graph.as_default()\n",
        "tf.reset_default_graph()"
      ],
      "execution_count": 0,
      "outputs": []
    },
    {
      "cell_type": "markdown",
      "metadata": {
        "id": "Q5ddw8Cqod1u",
        "colab_type": "text"
      },
      "source": [
        "## Settings"
      ]
    },
    {
      "cell_type": "markdown",
      "metadata": {
        "id": "ad2WKAYpod1x",
        "colab_type": "text"
      },
      "source": [
        "Kernel size and number of orientations"
      ]
    },
    {
      "cell_type": "code",
      "metadata": {
        "id": "MZQ5HZmpod1z",
        "colab_type": "code",
        "colab": {}
      },
      "source": [
        "Ntheta = 12 # Kernel size in angular direction\n",
        "Nxy=5       # Kernel size in spatial direction\n",
        "Nc = 4      # Number of channels in the initial layer"
      ],
      "execution_count": 0,
      "outputs": []
    },
    {
      "cell_type": "markdown",
      "metadata": {
        "id": "lwI3M5cFod17",
        "colab_type": "text"
      },
      "source": [
        "### Placeholders"
      ]
    },
    {
      "cell_type": "code",
      "metadata": {
        "id": "y73ImGlSod19",
        "colab_type": "code",
        "colab": {}
      },
      "source": [
        "inputs_ph = tf.placeholder( dtype = tf.float32, shape = [None,32,32,1] )\n",
        "labels_ph = tf.placeholder( dtype = tf.int32, shape = [None,] )"
      ],
      "execution_count": 0,
      "outputs": []
    },
    {
      "cell_type": "markdown",
      "metadata": {
        "id": "acmj06pZod2I",
        "colab_type": "text"
      },
      "source": [
        "### Prepare for the first layer"
      ]
    },
    {
      "cell_type": "code",
      "metadata": {
        "id": "M_QCocliod2M",
        "colab_type": "code",
        "outputId": "ca14d7b5-c721-4429-a20a-c302b8f5b64f",
        "colab": {
          "base_uri": "https://localhost:8080/",
          "height": 34
        }
      },
      "source": [
        "print(inputs_ph.shape)\n",
        "tensor_in = inputs_ph\n",
        "Nc_in = 1"
      ],
      "execution_count": 0,
      "outputs": [
        {
          "output_type": "stream",
          "text": [
            "(?, 32, 32, 1)\n"
          ],
          "name": "stdout"
        }
      ]
    },
    {
      "cell_type": "markdown",
      "metadata": {
        "id": "c-TMAhIQod2b",
        "colab_type": "text"
      },
      "source": [
        "### Save the kernels to a library for later inspection"
      ]
    },
    {
      "cell_type": "code",
      "metadata": {
        "id": "-IORwsefod2f",
        "colab_type": "code",
        "colab": {}
      },
      "source": [
        "kernels={}"
      ],
      "execution_count": 0,
      "outputs": []
    },
    {
      "cell_type": "markdown",
      "metadata": {
        "id": "Ysf0h1X3od2r",
        "colab_type": "text"
      },
      "source": [
        "## Layer 1: The lifting layer"
      ]
    },
    {
      "cell_type": "code",
      "metadata": {
        "id": "FIYtJwGkod2t",
        "colab_type": "code",
        "outputId": "f8b733e5-a5b7-4ae3-dcf4-74c29a65da96",
        "colab": {
          "base_uri": "https://localhost:8080/",
          "height": 156
        }
      },
      "source": [
        "with tf.variable_scope(\"Layer_{}\".format(1)) as _scope:\n",
        "    ## Settings\n",
        "    Nc_out = Nc\n",
        "\n",
        "    ## Perform lifting convolution\n",
        "    # The kernels used in the lifting layer\n",
        "    kernels_raw = tf.get_variable(\n",
        "                        'kernel', \n",
        "                        [Nxy,Nxy,Nc_in,Nc_out],\n",
        "                        initializer=weight_initializer(Nxy*Nxy*Nc_in,Nc_out))\n",
        "    tf.add_to_collection('raw_kernels', kernels_raw)\n",
        "    bias = tf.get_variable( # Same bias for all orientations\n",
        "                        \"bias\",\n",
        "                        [1, 1, 1, 1, Nc_out], \n",
        "                        initializer=tf.constant_initializer(value=0.01))\n",
        "    # Lifting layer\n",
        "    tensor_out, kernels_formatted = se2cnn.layers.z2_se2n(\n",
        "                            input_tensor = tensor_in,\n",
        "                            kernel = kernels_raw,\n",
        "                            orientations_nb = Ntheta)\n",
        "    # Add bias\n",
        "    tensor_out = tensor_out + bias\n",
        "    \n",
        "    ## Perform (spatial) max-pooling\n",
        "    tensor_out = se2cnn.layers.spatial_max_pool( input_tensor=tensor_out, nbOrientations=Ntheta)\n",
        "    \n",
        "    ## Apply ReLU\n",
        "    tensor_out1 = tf.nn.relu(tensor_out)\n",
        "\n",
        "    ## Prepare for the next layer\n",
        "    tensor_in = tensor_out1\n",
        "    Nc_in = Nc_out\n",
        "    \n",
        "    ## Save kernels for inspection\n",
        "    kernels[_scope.name] = kernels_formatted"
      ],
      "execution_count": 0,
      "outputs": [
        {
          "output_type": "stream",
          "text": [
            "Z2-SE2N BASE KERNEL SHAPE: (5, 5, 1, 4)\n",
            "WARNING:tensorflow:From /content/drive/My Drive/SE2CNN-master/se2cnn/layers.py:251: The name tf.sparse_tensor_dense_matmul is deprecated. Please use tf.sparse.sparse_dense_matmul instead.\n",
            "\n",
            "Z2-SE2N ROTATED KERNEL SET SHAPE: (12, 5, 5, 1, 4)\n",
            "OUTPUT SE2N ACTIVATIONS SHAPE: (?, 28, 28, 12, 4)\n",
            "WARNING:tensorflow:From /content/drive/My Drive/SE2CNN-master/se2cnn/layers.py:191: The name tf.nn.max_pool is deprecated. Please use tf.nn.max_pool2d instead.\n",
            "\n"
          ],
          "name": "stdout"
        }
      ]
    },
    {
      "cell_type": "code",
      "metadata": {
        "id": "05XTOu1Cod21",
        "colab_type": "code",
        "outputId": "37184d31-9e0d-416a-d8dd-f10d409f2411",
        "colab": {
          "base_uri": "https://localhost:8080/",
          "height": 34
        }
      },
      "source": [
        "tensor_in.get_shape()"
      ],
      "execution_count": 0,
      "outputs": [
        {
          "output_type": "execute_result",
          "data": {
            "text/plain": [
              "TensorShape([Dimension(None), Dimension(14), Dimension(14), Dimension(12), Dimension(4)])"
            ]
          },
          "metadata": {
            "tags": []
          },
          "execution_count": 17
        }
      ]
    },
    {
      "cell_type": "markdown",
      "metadata": {
        "id": "myXhb5mVod27",
        "colab_type": "text"
      },
      "source": [
        "## Layer 2: SE2-conv, max-pool, relu"
      ]
    },
    {
      "cell_type": "code",
      "metadata": {
        "id": "yU2xZ0jlod29",
        "colab_type": "code",
        "outputId": "643e9eef-aaaa-40df-b65a-64ceef08d42a",
        "colab": {
          "base_uri": "https://localhost:8080/",
          "height": 68
        }
      },
      "source": [
        "with tf.variable_scope(\"Layer_{}\".format(2)) as _scope:\n",
        "    ## Settings\n",
        "    Nc_out = 2*Nc\n",
        "\n",
        "    ## Perform group convolution\n",
        "    # The kernels used in the group convolution layer\n",
        "    kernels_raw = tf.get_variable(\n",
        "                        'kernel', \n",
        "                        [Nxy,Nxy,Ntheta,Nc_in,Nc_out],\n",
        "                        initializer=weight_initializer(Nxy*Nxy*Ntheta*Nc_in,Nc_out))\n",
        "    tf.add_to_collection('raw_kernels', kernels_raw)\n",
        "    bias = tf.get_variable( # Same bias for all orientations\n",
        "                        \"bias\",\n",
        "                        [1, 1, 1, 1, Nc_out], \n",
        "                        initializer=tf.constant_initializer(value=0.01))\n",
        "    # The group convolution layer\n",
        "    tensor_out, kernels_formatted = se2cnn.layers.se2n_se2n(\n",
        "                            input_tensor = tensor_in,\n",
        "                            kernel = kernels_raw)\n",
        "    tensor_out = tensor_out + bias\n",
        "    \n",
        "    ## Perform max-pooling\n",
        "    tensor_out = se2cnn.layers.spatial_max_pool( input_tensor=tensor_out, nbOrientations=Ntheta)\n",
        "    \n",
        "    ## Apply ReLU\n",
        "    tensor_out2 = tf.nn.relu(tensor_out)\n",
        "\n",
        "    ## Prepare for the next layer\n",
        "    tensor_in = tensor_out2\n",
        "    Nc_in = Nc_out\n",
        "    \n",
        "    ## Save kernels for inspection\n",
        "    kernels[_scope.name] = kernels_formatted"
      ],
      "execution_count": 0,
      "outputs": [
        {
          "output_type": "stream",
          "text": [
            "SE2N-SE2N BASE KERNEL SHAPE: (5, 5, 12, 4, 8)\n",
            "SE2N-SE2N ROTATED KERNEL SET SHAPE: (12, 5, 5, 12, 4, 8)\n",
            "OUTPUT SE2N ACTIVATIONS SHAPE: (?, 10, 10, 12, 8)\n"
          ],
          "name": "stdout"
        }
      ]
    },
    {
      "cell_type": "code",
      "metadata": {
        "id": "M5yffJ8Eod3H",
        "colab_type": "code",
        "outputId": "254c890a-8c76-4ade-d070-f669ed3505a2",
        "colab": {
          "base_uri": "https://localhost:8080/",
          "height": 34
        }
      },
      "source": [
        "tensor_in.get_shape()"
      ],
      "execution_count": 0,
      "outputs": [
        {
          "output_type": "execute_result",
          "data": {
            "text/plain": [
              "TensorShape([Dimension(None), Dimension(5), Dimension(5), Dimension(12), Dimension(8)])"
            ]
          },
          "metadata": {
            "tags": []
          },
          "execution_count": 19
        }
      ]
    },
    {
      "cell_type": "markdown",
      "metadata": {
        "id": "nwVEhN0Kod3L",
        "colab_type": "text"
      },
      "source": [
        "## Layer 3: 2D fully connected layer (5x5)"
      ]
    },
    {
      "cell_type": "code",
      "metadata": {
        "id": "jnNDR-REod3M",
        "colab_type": "code",
        "outputId": "7cedbaca-c461-4ae6-a17d-40f811d952e9",
        "colab": {
          "base_uri": "https://localhost:8080/",
          "height": 68
        }
      },
      "source": [
        "# 2D convolution layer\n",
        "with tf.variable_scope(\"Layer_{}\".format(3)) as _scope:\n",
        "    ## Settings\n",
        "    Nc_out = 4*Nc\n",
        "\n",
        "    ## Perform group convolution\n",
        "    # The kernels used in the group convolution layer\n",
        "    kernels_raw = tf.get_variable(\n",
        "                    'kernel', \n",
        "                    [Nxy,Nxy,Ntheta,Nc_in,Nc_out],\n",
        "                    initializer=weight_initializer(Nxy*Nxy*Ntheta*Nc_in,Nc_out))\n",
        "    tf.add_to_collection('raw_kernels', kernels_raw)\n",
        "    bias = tf.get_variable( # Same bias for all orientations\n",
        "                        \"bias\",\n",
        "                        [1, 1, 1, 1, Nc_out], \n",
        "                        initializer=tf.constant_initializer(value=0.01))\n",
        "    # Convolution layer\n",
        "    tensor_out, kernels_formatted = se2cnn.layers.se2n_se2n(\n",
        "                            input_tensor = tensor_in,\n",
        "                            kernel = kernels_raw)\n",
        "    tensor_out = tensor_out + bias\n",
        "    \n",
        "    ## Apply ReLU\n",
        "    tensor_out3 = tf.nn.relu(tensor_out)\n",
        "\n",
        "    ## Prepare for the next layer\n",
        "    tensor_in = tensor_out3\n",
        "    Nc_in = Nc_out\n",
        "    \n",
        "    ## Save kernels for inspection\n",
        "    kernels[_scope.name] = kernels_raw"
      ],
      "execution_count": 0,
      "outputs": [
        {
          "output_type": "stream",
          "text": [
            "SE2N-SE2N BASE KERNEL SHAPE: (5, 5, 12, 8, 16)\n",
            "SE2N-SE2N ROTATED KERNEL SET SHAPE: (12, 5, 5, 12, 8, 16)\n",
            "OUTPUT SE2N ACTIVATIONS SHAPE: (?, 1, 1, 12, 16)\n"
          ],
          "name": "stdout"
        }
      ]
    },
    {
      "cell_type": "code",
      "metadata": {
        "id": "AHmt_f2uod3S",
        "colab_type": "code",
        "outputId": "f3dff157-da8a-4814-e115-7e16fa1a9d43",
        "colab": {
          "base_uri": "https://localhost:8080/",
          "height": 34
        }
      },
      "source": [
        "tensor_in.get_shape()"
      ],
      "execution_count": 0,
      "outputs": [
        {
          "output_type": "execute_result",
          "data": {
            "text/plain": [
              "TensorShape([Dimension(None), Dimension(1), Dimension(1), Dimension(12), Dimension(16)])"
            ]
          },
          "metadata": {
            "tags": []
          },
          "execution_count": 21
        }
      ]
    },
    {
      "cell_type": "markdown",
      "metadata": {
        "id": "xU9uSu_Kod3X",
        "colab_type": "text"
      },
      "source": [
        "## Layer 4: Fully connected layer (1x1)"
      ]
    },
    {
      "cell_type": "code",
      "metadata": {
        "id": "ZJHTk9YTod3Y",
        "colab_type": "code",
        "outputId": "c672611b-0e1f-4519-9022-40869ffd86fb",
        "colab": {
          "base_uri": "https://localhost:8080/",
          "height": 68
        }
      },
      "source": [
        "# 2D convolution layer\n",
        "with tf.variable_scope(\"Layer_{}\".format(4)) as _scope:\n",
        "    ## Settings\n",
        "    Nc_out = 128\n",
        "\n",
        "    ## Perform group convolution\n",
        "    # The kernels used in the group convolution layer\n",
        "    kernels_raw = tf.get_variable(\n",
        "                    'kernel', \n",
        "                    [1,1,Ntheta,Nc_in,Nc_out],\n",
        "                    initializer=weight_initializer(1*1*Ntheta*Nc_in,Nc_out))\n",
        "    tf.add_to_collection('raw_kernels', kernels_raw)\n",
        "    bias = tf.get_variable( # Same bias for all orientations\n",
        "                        \"bias\",\n",
        "                        [1, 1, 1, 1, Nc_out], \n",
        "                        initializer=tf.constant_initializer(value=0.01))\n",
        "    # Convolution layer\n",
        "    tensor_out, kernels_formatted = se2cnn.layers.se2n_se2n(\n",
        "                            input_tensor = tensor_in,\n",
        "                            kernel = kernels_raw)\n",
        "    tensor_out = tensor_out + bias\n",
        "    \n",
        "    ## Apply ReLU\n",
        "    tensor_out4 = tf.nn.relu(tensor_out)\n",
        "\n",
        "    ## Prepare for the next layer\n",
        "    tensor_in = tensor_out4\n",
        "    Nc_in = Nc_out\n",
        "    \n",
        "    ## Save kernels for inspection\n",
        "    kernels[_scope.name] = kernels_raw"
      ],
      "execution_count": 0,
      "outputs": [
        {
          "output_type": "stream",
          "text": [
            "SE2N-SE2N BASE KERNEL SHAPE: (1, 1, 12, 16, 128)\n",
            "SE2N-SE2N ROTATED KERNEL SET SHAPE: (12, 1, 1, 12, 16, 128)\n",
            "OUTPUT SE2N ACTIVATIONS SHAPE: (?, 1, 1, 12, 128)\n"
          ],
          "name": "stdout"
        }
      ]
    },
    {
      "cell_type": "code",
      "metadata": {
        "id": "IaESS6BDod3e",
        "colab_type": "code",
        "outputId": "652b794e-e642-4949-9d98-7691a3d57c8c",
        "colab": {
          "base_uri": "https://localhost:8080/",
          "height": 34
        }
      },
      "source": [
        "tensor_in.get_shape()"
      ],
      "execution_count": 0,
      "outputs": [
        {
          "output_type": "execute_result",
          "data": {
            "text/plain": [
              "TensorShape([Dimension(None), Dimension(1), Dimension(1), Dimension(12), Dimension(128)])"
            ]
          },
          "metadata": {
            "tags": []
          },
          "execution_count": 23
        }
      ]
    },
    {
      "cell_type": "markdown",
      "metadata": {
        "id": "esyz-qzYod3l",
        "colab_type": "text"
      },
      "source": [
        "## Layer 5: Fully connected (1x1) to output"
      ]
    },
    {
      "cell_type": "code",
      "metadata": {
        "id": "Kke8qWiOod3m",
        "colab_type": "code",
        "outputId": "34e296ec-142f-48c8-958d-a52402cfa026",
        "colab": {
          "base_uri": "https://localhost:8080/",
          "height": 139
        }
      },
      "source": [
        "with tf.variable_scope(\"Layer_{}\".format(5)) as _scope:\n",
        "    ## Settings\n",
        "    Nc_out = 10\n",
        "\n",
        "    ## Perform group convolution\n",
        "    # The kernels used in the group convolution layer\n",
        "    kernels_raw = tf.get_variable(\n",
        "                    'kernel', \n",
        "                    [1,1,Ntheta,Nc_in,Nc_out],\n",
        "                    initializer=weight_initializer(1*1*Ntheta*Nc_in,Nc_out))\n",
        "    tf.add_to_collection('raw_kernels', kernels_raw)\n",
        "    bias = tf.get_variable( # Same bias for all orientations\n",
        "                        \"bias\",\n",
        "                        [1, 1, 1, 1, Nc_out], \n",
        "                        initializer=tf.constant_initializer(value=0.01))\n",
        "\n",
        "    \n",
        "    ## Convolution layer\n",
        "    tensor_out, kernels_formatted = se2cnn.layers.se2n_se2n(\n",
        "                            input_tensor = tensor_in,\n",
        "                            kernel = kernels_raw)\n",
        "    tensor_out5 = tensor_out + bias\n",
        "    tensor_out5 = tf.transpose(tensor_out5, [0,  4, 3, 1, 2])\n",
        "    tensor_out5 = tf.reduce_max(tensor_out5, axis=-3, keep_dims=False)\n",
        "    tensor_out5 = tf.transpose(tensor_out5, [0, 2, 3, 1])\n",
        "    logits = tensor_out5[:,0,0,:]\n",
        "    predictions = tf.argmax(input=logits, axis=1)\n",
        "    probabilities = tf.nn.softmax(logits)\n",
        "    \n",
        "    ## Save the kernels for later inspection\n",
        "    kernels[_scope.name] = kernels_raw"
      ],
      "execution_count": 0,
      "outputs": [
        {
          "output_type": "stream",
          "text": [
            "SE2N-SE2N BASE KERNEL SHAPE: (1, 1, 12, 128, 10)\n",
            "SE2N-SE2N ROTATED KERNEL SET SHAPE: (12, 1, 1, 12, 128, 10)\n",
            "OUTPUT SE2N ACTIVATIONS SHAPE: (?, 1, 1, 12, 10)\n",
            "WARNING:tensorflow:From <ipython-input-24-a50817d3bcd0>:24: calling reduce_max_v1 (from tensorflow.python.ops.math_ops) with keep_dims is deprecated and will be removed in a future version.\n",
            "Instructions for updating:\n",
            "keep_dims is deprecated, use keepdims instead\n"
          ],
          "name": "stdout"
        }
      ]
    },
    {
      "cell_type": "markdown",
      "metadata": {
        "id": "IxzVxUJymI0J",
        "colab_type": "text"
      },
      "source": [
        ""
      ]
    },
    {
      "cell_type": "code",
      "metadata": {
        "id": "STNc3EdBt-NX",
        "colab_type": "code",
        "outputId": "75037b61-a94a-4174-e1bb-1cb30752c29f",
        "colab": {
          "base_uri": "https://localhost:8080/",
          "height": 34
        }
      },
      "source": [
        "tensor_out5.get_shape()"
      ],
      "execution_count": 0,
      "outputs": [
        {
          "output_type": "execute_result",
          "data": {
            "text/plain": [
              "TensorShape([Dimension(None), Dimension(1), Dimension(1), Dimension(10)])"
            ]
          },
          "metadata": {
            "tags": []
          },
          "execution_count": 25
        }
      ]
    },
    {
      "cell_type": "code",
      "metadata": {
        "id": "r3Kbykdbod3s",
        "colab_type": "code",
        "outputId": "d43ed1dc-186a-48a1-9817-26319c145b0f",
        "colab": {
          "base_uri": "https://localhost:8080/",
          "height": 34
        }
      },
      "source": [
        "logits.get_shape()"
      ],
      "execution_count": 0,
      "outputs": [
        {
          "output_type": "execute_result",
          "data": {
            "text/plain": [
              "TensorShape([Dimension(None), Dimension(10)])"
            ]
          },
          "metadata": {
            "tags": []
          },
          "execution_count": 26
        }
      ]
    },
    {
      "cell_type": "code",
      "metadata": {
        "id": "zA1rpYZWuTC2",
        "colab_type": "code",
        "outputId": "a52fc001-2043-4b0d-dcaa-81282a914b95",
        "colab": {
          "base_uri": "https://localhost:8080/",
          "height": 34
        }
      },
      "source": [
        "predictions.get_shape()"
      ],
      "execution_count": 0,
      "outputs": [
        {
          "output_type": "execute_result",
          "data": {
            "text/plain": [
              "TensorShape([Dimension(None)])"
            ]
          },
          "metadata": {
            "tags": []
          },
          "execution_count": 27
        }
      ]
    },
    {
      "cell_type": "markdown",
      "metadata": {
        "id": "sZMvG4tzod33",
        "colab_type": "text"
      },
      "source": [
        "## Define the loss and the optimizer"
      ]
    },
    {
      "cell_type": "code",
      "metadata": {
        "id": "N0_gw7Bvod35",
        "colab_type": "code",
        "outputId": "4b73b370-bcd7-4b76-fccf-16f4ea6767b4",
        "colab": {
          "base_uri": "https://localhost:8080/",
          "height": 88
        }
      },
      "source": [
        "# Cross-entropy loss\n",
        "loss = tf.losses.sparse_softmax_cross_entropy(labels=labels_ph, logits=logits)"
      ],
      "execution_count": 0,
      "outputs": [
        {
          "output_type": "stream",
          "text": [
            "WARNING:tensorflow:From /usr/local/lib/python3.6/dist-packages/tensorflow_core/python/ops/losses/losses_impl.py:121: where (from tensorflow.python.ops.array_ops) is deprecated and will be removed in a future version.\n",
            "Instructions for updating:\n",
            "Use tf.where in 2.0, which has the same broadcast rule as np.where\n"
          ],
          "name": "stdout"
        }
      ]
    },
    {
      "cell_type": "code",
      "metadata": {
        "id": "ghcHkh6Fod3-",
        "colab_type": "code",
        "outputId": "e3a42cd4-3d9d-4501-b9f2-bdb180dfaae8",
        "colab": {
          "base_uri": "https://localhost:8080/",
          "height": 153
        }
      },
      "source": [
        "#-- Define the l2 loss \n",
        "weightDecay=5e-4\n",
        "# Get the raw kernels\n",
        "variables_wd = tf.get_collection('raw_kernels')\n",
        "print('-----')\n",
        "print('RAW kernel shapes:')\n",
        "for v in variables_wd: print( \"[{}]: {}, total nr of weights = {}\".format(v.name, v.get_shape(), size_of(v)))\n",
        "print('-----')\n",
        "loss_l2 = weightDecay*sum([tf.nn.l2_loss(ker) for ker in variables_wd])"
      ],
      "execution_count": 0,
      "outputs": [
        {
          "output_type": "stream",
          "text": [
            "-----\n",
            "RAW kernel shapes:\n",
            "[Layer_1/kernel:0]: (5, 5, 1, 4), total nr of weights = 100\n",
            "[Layer_2/kernel:0]: (5, 5, 12, 4, 8), total nr of weights = 9600\n",
            "[Layer_3/kernel:0]: (5, 5, 12, 8, 16), total nr of weights = 38400\n",
            "[Layer_4/kernel:0]: (1, 1, 12, 16, 128), total nr of weights = 24576\n",
            "[Layer_5/kernel:0]: (1, 1, 12, 128, 10), total nr of weights = 15360\n",
            "-----\n"
          ],
          "name": "stdout"
        }
      ]
    },
    {
      "cell_type": "code",
      "metadata": {
        "id": "ZHldSVPeod4E",
        "colab_type": "code",
        "colab": {}
      },
      "source": [
        "# Configure the Training Op (for TRAIN mode)\n",
        "optimizer = tf.train.AdamOptimizer(learning_rate=0.001)\n",
        "\n",
        "train_op = optimizer.minimize(\n",
        "    loss=loss + loss_l2,\n",
        "    global_step=tf.train.get_global_step())"
      ],
      "execution_count": 0,
      "outputs": []
    },
    {
      "cell_type": "markdown",
      "metadata": {
        "id": "eGm5zcSNod4M",
        "colab_type": "text"
      },
      "source": [
        "***\n",
        "# Part 4: Train and test the G-CNN"
      ]
    },
    {
      "cell_type": "markdown",
      "metadata": {
        "id": "64bSn2QSod4O",
        "colab_type": "text"
      },
      "source": [
        "## Begin session"
      ]
    },
    {
      "cell_type": "code",
      "metadata": {
        "id": "63PaH1v1od4Q",
        "colab_type": "code",
        "colab": {}
      },
      "source": [
        "#-- Start the (GPU) session\n",
        "initializer = tf.global_variables_initializer()\n",
        "session = tf.Session(graph=tf.get_default_graph()) #-- Session created\n",
        "session.run(initializer)"
      ],
      "execution_count": 0,
      "outputs": []
    },
    {
      "cell_type": "markdown",
      "metadata": {
        "id": "zuisa6zPod4V",
        "colab_type": "text"
      },
      "source": [
        "## Optimization"
      ]
    },
    {
      "cell_type": "markdown",
      "metadata": {
        "id": "meb47ESOod4Z",
        "colab_type": "text"
      },
      "source": [
        "In each epoch we pass over all input samples in batch sizes of batch_size"
      ]
    },
    {
      "cell_type": "code",
      "metadata": {
        "id": "5XWPfEULod4c",
        "colab_type": "code",
        "colab": {}
      },
      "source": [
        "batch_size=100\n",
        "n_epochs=10"
      ],
      "execution_count": 0,
      "outputs": []
    },
    {
      "cell_type": "markdown",
      "metadata": {
        "id": "ysW7J30Hod4g",
        "colab_type": "text"
      },
      "source": [
        "Loop over the input stack in batch of size \"batch_size\"."
      ]
    },
    {
      "cell_type": "code",
      "metadata": {
        "id": "sgiiwRPood4h",
        "colab_type": "code",
        "outputId": "4bce3c53-50fa-430f-cef5-a3972b82968e",
        "colab": {
          "base_uri": "https://localhost:8080/",
          "height": 187
        }
      },
      "source": [
        "for epoch_nr in range(n_epochs):\n",
        "    loss_average = 0\n",
        "    data = train_data_2D\n",
        "    labels = train_labels\n",
        "    # KBatch settings\n",
        "    NItPerEpoch = m.floor(len(data)/batch_size) #number of iterations per epoch\n",
        "    samples=np.random.permutation(len(data))\n",
        "    # Loop over dataset\n",
        "    tStart = time.time()\n",
        "    for iteration in range(NItPerEpoch):\n",
        "        feed_dict = {\n",
        "                inputs_ph: np.array(data[samples[iteration*batch_size:(iteration+1)*batch_size]]),\n",
        "                labels_ph: np.array(labels[samples[iteration*batch_size:(iteration+1)*batch_size]])\n",
        "                }\n",
        "        operators_output = session.run([ loss , train_op ], feed_dict)\n",
        "        loss_average += operators_output[0]/NItPerEpoch\n",
        "    tElapsed = time.time() - tStart\n",
        "    print('Epoch ' , epoch_nr , ' finished... Average loss = ' , round(loss_average,4) , ', time = ',round(tElapsed,4))"
      ],
      "execution_count": 0,
      "outputs": [
        {
          "output_type": "stream",
          "text": [
            "Epoch  0  finished... Average loss =  0.2871 , time =  377.4943\n",
            "Epoch  1  finished... Average loss =  0.0701 , time =  377.337\n",
            "Epoch  2  finished... Average loss =  0.0506 , time =  374.3888\n",
            "Epoch  3  finished... Average loss =  0.0412 , time =  372.6056\n",
            "Epoch  4  finished... Average loss =  0.038 , time =  377.4034\n",
            "Epoch  5  finished... Average loss =  0.0332 , time =  375.4972\n",
            "Epoch  6  finished... Average loss =  0.0329 , time =  380.5346\n",
            "Epoch  7  finished... Average loss =  0.0282 , time =  384.7814\n",
            "Epoch  8  finished... Average loss =  0.0277 , time =  380.0204\n",
            "Epoch  9  finished... Average loss =  0.0275 , time =  380.9766\n"
          ],
          "name": "stdout"
        }
      ]
    },
    {
      "cell_type": "markdown",
      "metadata": {
        "id": "sBvMgz3Jod4m",
        "colab_type": "text"
      },
      "source": [
        "## Validation"
      ]
    },
    {
      "cell_type": "code",
      "metadata": {
        "id": "GqDfZQ7HLnBF",
        "colab_type": "code",
        "colab": {}
      },
      "source": [
        "from google.colab import drive\n",
        "drive.mount('/content/drive')"
      ],
      "execution_count": 0,
      "outputs": []
    },
    {
      "cell_type": "code",
      "metadata": {
        "id": "3-EmSmJgod4o",
        "colab_type": "code",
        "colab": {}
      },
      "source": [
        "batch_size = 1000\n",
        "labels_pred = []\n",
        "for i in range(round(len(eval_data_2D)/batch_size)):\n",
        "    [ labels_pred_batch ] = session.run([ predictions ], { inputs_ph: eval_data_2D[i*batch_size:(i+1)*batch_size] })\n",
        "    labels_pred = labels_pred + list(labels_pred_batch)\n",
        "labels_pred = np.array(labels_pred)"
      ],
      "execution_count": 0,
      "outputs": []
    },
    {
      "cell_type": "markdown",
      "metadata": {
        "id": "L794jANFod4w",
        "colab_type": "text"
      },
      "source": [
        "Compare the first 10 results with the ground truth"
      ]
    },
    {
      "cell_type": "code",
      "metadata": {
        "id": "NGy4xLHLod4y",
        "colab_type": "code",
        "outputId": "ceea9727-630f-4bf8-effe-455e09dc693c",
        "colab": {
          "base_uri": "https://localhost:8080/",
          "height": 51
        }
      },
      "source": [
        "print(labels_pred[0:10])\n",
        "print(eval_labels[0:10])"
      ],
      "execution_count": 0,
      "outputs": [
        {
          "output_type": "stream",
          "text": [
            "[7 2 1 0 4 1 4 9 6 9]\n",
            "[7 2 1 0 4 1 4 9 5 9]\n"
          ],
          "name": "stdout"
        }
      ]
    },
    {
      "cell_type": "markdown",
      "metadata": {
        "id": "2vQ6kt-pod5C",
        "colab_type": "text"
      },
      "source": [
        "The accuracy (average nr of successes)"
      ]
    },
    {
      "cell_type": "code",
      "metadata": {
        "id": "fZNDd0wHod5F",
        "colab_type": "code",
        "outputId": "279c3f4f-a6c4-4dea-d662-1e92f413eb61",
        "colab": {
          "base_uri": "https://localhost:8080/",
          "height": 34
        }
      },
      "source": [
        "((labels_pred - eval_labels)**2==0).astype(float).mean()"
      ],
      "execution_count": 0,
      "outputs": [
        {
          "output_type": "execute_result",
          "data": {
            "text/plain": [
              "0.9895"
            ]
          },
          "metadata": {
            "tags": []
          },
          "execution_count": 36
        }
      ]
    },
    {
      "cell_type": "markdown",
      "metadata": {
        "id": "5p7QT1b9od5N",
        "colab_type": "text"
      },
      "source": [
        "Total nr of errors"
      ]
    },
    {
      "cell_type": "code",
      "metadata": {
        "id": "rc2d-azlod5S",
        "colab_type": "code",
        "outputId": "ada6b9da-870f-4a93-fed3-0ded25150227",
        "colab": {
          "base_uri": "https://localhost:8080/",
          "height": 34
        }
      },
      "source": [
        "((labels_pred - eval_labels)**2>0).astype(float).sum()"
      ],
      "execution_count": 0,
      "outputs": [
        {
          "output_type": "execute_result",
          "data": {
            "text/plain": [
              "105.0"
            ]
          },
          "metadata": {
            "tags": []
          },
          "execution_count": 37
        }
      ]
    },
    {
      "cell_type": "markdown",
      "metadata": {
        "id": "lYiqnD20od5c",
        "colab_type": "text"
      },
      "source": [
        "Error rate"
      ]
    },
    {
      "cell_type": "code",
      "metadata": {
        "id": "YQyWOeSsod5e",
        "colab_type": "code",
        "outputId": "b698f8e0-4ddf-4ee2-9938-1fa0e312d1e5",
        "colab": {
          "base_uri": "https://localhost:8080/",
          "height": 34
        }
      },
      "source": [
        "100*((labels_pred - eval_labels)**2>0).astype(float).mean()"
      ],
      "execution_count": 0,
      "outputs": [
        {
          "output_type": "execute_result",
          "data": {
            "text/plain": [
              "1.05"
            ]
          },
          "metadata": {
            "tags": []
          },
          "execution_count": 38
        }
      ]
    },
    {
      "cell_type": "markdown",
      "metadata": {
        "id": "mMxz04y7od5l",
        "colab_type": "text"
      },
      "source": [
        "Plot a confusion matrix to see what kind of errors are made"
      ]
    },
    {
      "cell_type": "code",
      "metadata": {
        "scrolled": true,
        "id": "EuSAqkE4od5n",
        "colab_type": "code",
        "outputId": "61b26adc-454e-4df1-dc9c-6d8124f8a91a",
        "colab": {
          "base_uri": "https://localhost:8080/",
          "height": 328
        }
      },
      "source": [
        "cm = confusion_matrix(eval_labels, labels_pred)\n",
        "plot_confusion_matrix(cm, range(10))"
      ],
      "execution_count": 0,
      "outputs": [
        {
          "output_type": "stream",
          "text": [
            "Confusion matrix, without normalization\n"
          ],
          "name": "stdout"
        },
        {
          "output_type": "display_data",
          "data": {
            "image/png": "[encoded data removed]",
            "text/plain": [
              "<Figure size 432x288 with 2 Axes>"
            ]
          },
          "metadata": {
            "tags": [],
            "needs_background": "light"
          }
        }
      ]
    }
  ]
}